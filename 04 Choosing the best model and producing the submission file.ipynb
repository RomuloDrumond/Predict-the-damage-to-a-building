{
 "cells": [
  {
   "cell_type": "markdown",
   "metadata": {},
   "source": [
    "<center><h1>Choosing the best model and producing the submission file</h1></center>"
   ]
  },
  {
   "cell_type": "markdown",
   "metadata": {},
   "source": [
    "The tree-based model was adopted as it had shown better generalization and stability."
   ]
  },
  {
   "cell_type": "code",
   "execution_count": 1,
   "metadata": {},
   "outputs": [
    {
     "name": "stdout",
     "output_type": "stream",
     "text": [
      "best_params:\n"
     ]
    },
    {
     "data": {
      "text/plain": [
       "{'learning_rate': 0.1,\n",
       " 'n_estimators': 500,\n",
       " 'max_depth': 12,\n",
       " 'tree_method': 'gpu_hist',\n",
       " 'objective': 'multi:softmax'}"
      ]
     },
     "metadata": {},
     "output_type": "display_data"
    }
   ],
   "source": [
    "import pandas as pd\n",
    "\n",
    "# loading results\n",
    "df_xgb = pd.read_csv(\"./simulation_results/df_xgb.csv\", sep='\\t')\n",
    "\n",
    "temp = df_xgb.sort_values(\"$f_o$\", ascending=False).iloc[0,:][0:3].to_dict()\n",
    "temp.update({'tree_method':'gpu_hist', 'objective':'multi:softmax'})\n",
    "best_params = {key:value if key!='n_estimators'and key!='max_depth' else int(value) for key, value in temp.items()}\n",
    "print(\"best_params:\")\n",
    "display(best_params)"
   ]
  },
  {
   "cell_type": "code",
   "execution_count": 2,
   "metadata": {},
   "outputs": [
    {
     "name": "stderr",
     "output_type": "stream",
     "text": [
      "/home/romulo/ml_challenge6/venv/lib/python3.6/site-packages/sklearn/preprocessing/label.py:219: DataConversionWarning: A column-vector y was passed when a 1d array was expected. Please change the shape of y to (n_samples, ), for example using ravel().\n",
      "  y = column_or_1d(y, warn=True)\n",
      "/home/romulo/ml_challenge6/venv/lib/python3.6/site-packages/sklearn/preprocessing/label.py:252: DataConversionWarning: A column-vector y was passed when a 1d array was expected. Please change the shape of y to (n_samples, ), for example using ravel().\n",
      "  y = column_or_1d(y, warn=True)\n"
     ]
    },
    {
     "name": "stdout",
     "output_type": "stream",
     "text": [
      "F1_validation: 0.7730810044333333\n",
      "CPU times: user 9min 26s, sys: 2min 27s, total: 11min 53s\n",
      "Wall time: 11min 53s\n"
     ]
    }
   ],
   "source": [
    "%%time\n",
    "# training the chosen model in all the training dataset\n",
    "from sklearn.model_selection import train_test_split\n",
    "from sklearn.metrics import f1_score\n",
    "from xgboost import XGBClassifier\n",
    "\n",
    "# loading preprocessed data set\n",
    "X_tr = pd.read_csv(\"X_tr.csv\")\n",
    "Y_tr = pd.read_csv(\"Y_tr.csv\", header=None)\n",
    "\n",
    "# Train/validation split\n",
    "X_train, X_validation, y_train, y_validation = train_test_split(X_tr, Y_tr, test_size=0.2)\n",
    "\n",
    "# no scaling is needed!!!\n",
    "\n",
    "# model fitting\n",
    "xgb = XGBClassifier(**best_params)\n",
    "xgb.fit(X_train, y_train, eval_set=[(X_validation,y_validation)]\n",
    "        ,early_stopping_rounds=30, verbose=False)\n",
    "\n",
    "# model final evaluation on validation set\n",
    "y_pred = xgb.predict(X_validation)\n",
    "print(\"F1_validation: {}\".format(f1_score(y_validation, y_pred, average='weighted')))"
   ]
  },
  {
   "cell_type": "code",
   "execution_count": 3,
   "metadata": {},
   "outputs": [],
   "source": [
    "import pickle"
   ]
  },
  {
   "cell_type": "code",
   "execution_count": 4,
   "metadata": {},
   "outputs": [],
   "source": [
    "# saving final model\n",
    "# with open('model_data.pkl', 'wb') as output:\n",
    "#     pickle.dump(xgb, output, pickle.HIGHEST_PROTOCOL)"
   ]
  },
  {
   "cell_type": "code",
   "execution_count": 5,
   "metadata": {},
   "outputs": [],
   "source": [
    "# loading final model\n",
    "with open('model_data.pkl', 'rb') as input:\n",
    "    xgb = pickle.load(input)"
   ]
  },
  {
   "cell_type": "code",
   "execution_count": 6,
   "metadata": {},
   "outputs": [
    {
     "data": {
      "text/plain": [
       "XGBClassifier(base_score=0.5, booster='gbtree', colsample_bylevel=1,\n",
       "              colsample_bynode=1, colsample_bytree=1, gamma=0,\n",
       "              learning_rate=0.1, max_delta_step=0, max_depth=12,\n",
       "              min_child_weight=1, missing=nan, n_estimators=500, n_jobs=1,\n",
       "              nthread=None, objective='multi:softprob', random_state=0,\n",
       "              reg_alpha=0, reg_lambda=1, scale_pos_weight=1, seed=None,\n",
       "              silent=None, subsample=1, tree_method='gpu_hist', verbosity=1)"
      ]
     },
     "execution_count": 6,
     "metadata": {},
     "output_type": "execute_result"
    }
   ],
   "source": [
    "xgb"
   ]
  },
  {
   "cell_type": "code",
   "execution_count": 7,
   "metadata": {},
   "outputs": [
    {
     "name": "stdout",
     "output_type": "stream",
     "text": [
      "test.shape = (421175, 113)\n"
     ]
    }
   ],
   "source": [
    "# preprocessing of the test data set\n",
    "test       = pd.read_csv(\"./dataset/test.csv\")\n",
    "build_own  = pd.read_csv(\"./dataset/Building_Ownership_Use.csv\") \n",
    "build_str  = pd.read_csv(\"./dataset/Building_Structure.csv\")\n",
    "build_data = pd.merge(build_str, build_own,  on=['building_id', 'district_id', 'vdcmun_id', 'ward_id'])\n",
    "testFull   = pd.merge(test,      build_data, on=['building_id', 'district_id', 'vdcmun_id'])\n",
    "test_num   = testFull\n",
    "\n",
    "# encoding to dummies\n",
    "catFeat = ['area_assesed','district_id','land_surface_condition','foundation_type','roof_type',\n",
    "           'ground_floor_type','other_floor_type','position','plan_configuration','condition_post_eq',\n",
    "           'legal_ownership_status']\n",
    "test_num = pd.get_dummies(test_num, columns=catFeat,                drop_first=True)\n",
    "test_num = pd.get_dummies(test_num, columns=['has_repair_started'], drop_first=True, dummy_na=True)\n",
    "\n",
    "# Converting 'building_id' to numerical format\n",
    "test_num['building_id'] = test_num['building_id'].apply(lambda x: int(x,16))\n",
    "print(\"test.shape = {}\".format(test_num.shape))"
   ]
  },
  {
   "cell_type": "code",
   "execution_count": 8,
   "metadata": {},
   "outputs": [],
   "source": [
    "test_predictions = xgb.predict(test_num)\n",
    "\n",
    "# Converting predictions to submission format\n",
    "damage_grade = ['Grade {}'.format(prediction) for prediction in test_predictions]"
   ]
  },
  {
   "cell_type": "code",
   "execution_count": 9,
   "metadata": {},
   "outputs": [
    {
     "data": {
      "text/html": [
       "<div>\n",
       "<style scoped>\n",
       "    .dataframe tbody tr th:only-of-type {\n",
       "        vertical-align: middle;\n",
       "    }\n",
       "\n",
       "    .dataframe tbody tr th {\n",
       "        vertical-align: top;\n",
       "    }\n",
       "\n",
       "    .dataframe thead th {\n",
       "        text-align: right;\n",
       "    }\n",
       "</style>\n",
       "<table border=\"1\" class=\"dataframe\">\n",
       "  <thead>\n",
       "    <tr style=\"text-align: right;\">\n",
       "      <th></th>\n",
       "      <th>building_id</th>\n",
       "      <th>damage_grade</th>\n",
       "    </tr>\n",
       "  </thead>\n",
       "  <tbody>\n",
       "    <tr>\n",
       "      <th>0</th>\n",
       "      <td>a3380c4f75</td>\n",
       "      <td>Grade 3</td>\n",
       "    </tr>\n",
       "    <tr>\n",
       "      <th>1</th>\n",
       "      <td>a338a4e653</td>\n",
       "      <td>Grade 5</td>\n",
       "    </tr>\n",
       "    <tr>\n",
       "      <th>2</th>\n",
       "      <td>a338a4e6b7</td>\n",
       "      <td>Grade 5</td>\n",
       "    </tr>\n",
       "    <tr>\n",
       "      <th>3</th>\n",
       "      <td>a33a6eaa3a</td>\n",
       "      <td>Grade 3</td>\n",
       "    </tr>\n",
       "    <tr>\n",
       "      <th>4</th>\n",
       "      <td>a33b073ff6</td>\n",
       "      <td>Grade 5</td>\n",
       "    </tr>\n",
       "  </tbody>\n",
       "</table>\n",
       "</div>"
      ],
      "text/plain": [
       "  building_id damage_grade\n",
       "0  a3380c4f75      Grade 3\n",
       "1  a338a4e653      Grade 5\n",
       "2  a338a4e6b7      Grade 5\n",
       "3  a33a6eaa3a      Grade 3\n",
       "4  a33b073ff6      Grade 5"
      ]
     },
     "execution_count": 9,
     "metadata": {},
     "output_type": "execute_result"
    }
   ],
   "source": [
    "# creating and saving predictions data frame for submission\n",
    "submission = pd.DataFrame(data={'building_id':  testFull['building_id'].values,\n",
    "                                'damage_grade': damage_grade\n",
    "                               })\n",
    "\n",
    "submission.head()"
   ]
  },
  {
   "cell_type": "code",
   "execution_count": 10,
   "metadata": {},
   "outputs": [],
   "source": [
    "submission.to_csv('submission.csv', index=False)"
   ]
  }
 ],
 "metadata": {
  "kernelspec": {
   "display_name": "Python 3",
   "language": "python",
   "name": "python3"
  },
  "language_info": {
   "codemirror_mode": {
    "name": "ipython",
    "version": 3
   },
   "file_extension": ".py",
   "mimetype": "text/x-python",
   "name": "python",
   "nbconvert_exporter": "python",
   "pygments_lexer": "ipython3",
   "version": "3.6.7"
  }
 },
 "nbformat": 4,
 "nbformat_minor": 2
}
